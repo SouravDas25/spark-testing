{
 "cells": [
  {
   "cell_type": "code",
   "execution_count": 1,
   "id": "3771fc54",
   "metadata": {},
   "outputs": [],
   "source": [
    "from pyspark import SparkConf, SparkContext"
   ]
  },
  {
   "cell_type": "code",
   "execution_count": 2,
   "id": "3165e27e",
   "metadata": {},
   "outputs": [],
   "source": [
    "conf = SparkConf().setAppName(\"TestSpark\")"
   ]
  },
  {
   "cell_type": "code",
   "execution_count": 5,
   "id": "a63eb080",
   "metadata": {},
   "outputs": [
    {
     "name": "stderr",
     "output_type": "stream",
     "text": [
      "WARNING: An illegal reflective access operation has occurred\n",
      "WARNING: Illegal reflective access by org.apache.spark.unsafe.Platform (file:/usr/local/spark-3.2.0-bin-hadoop3.2/jars/spark-unsafe_2.12-3.2.0.jar) to constructor java.nio.DirectByteBuffer(long,int)\n",
      "WARNING: Please consider reporting this to the maintainers of org.apache.spark.unsafe.Platform\n",
      "WARNING: Use --illegal-access=warn to enable warnings of further illegal reflective access operations\n",
      "WARNING: All illegal access operations will be denied in a future release\n",
      "Using Spark's default log4j profile: org/apache/spark/log4j-defaults.properties\n",
      "Setting default log level to \"WARN\".\n",
      "To adjust logging level use sc.setLogLevel(newLevel). For SparkR, use setLogLevel(newLevel).\n",
      "21/12/31 08:51:51 WARN NativeCodeLoader: Unable to load native-hadoop library for your platform... using builtin-java classes where applicable\n"
     ]
    }
   ],
   "source": [
    "spCon = SparkContext.getOrCreate(conf=conf)"
   ]
  },
  {
   "cell_type": "code",
   "execution_count": 67,
   "id": "8b126b89",
   "metadata": {},
   "outputs": [],
   "source": [
    "text = spCon.textFile(\"text.txt\")"
   ]
  },
  {
   "cell_type": "code",
   "execution_count": 76,
   "id": "3a8953ef",
   "metadata": {},
   "outputs": [],
   "source": [
    "# ints = text.flatMap(lambda x : x.split(\" \")).filter(lambda x : len(x)>0).map(lambda x : int(x))\n",
    "rdd1 = text.flatMap(lambda x : x.split(\" \")).filter(lambda x : len(x)>0).map(lambda x : (x,1))\n",
    "# rdd2 = rdd1.groupByKey()\n",
    "rdd2 = rdd1.reduceByKey(lambda x, y: x + y)\n",
    "# rdd2.collect()"
   ]
  },
  {
   "cell_type": "code",
   "execution_count": 77,
   "id": "0f5cad6f",
   "metadata": {},
   "outputs": [],
   "source": [
    "rdd1.saveAsTextFile(\"Output\")"
   ]
  },
  {
   "cell_type": "code",
   "execution_count": null,
   "id": "20b163e8",
   "metadata": {},
   "outputs": [],
   "source": []
  }
 ],
 "metadata": {
  "kernelspec": {
   "display_name": "Python 3 (ipykernel)",
   "language": "python",
   "name": "python3"
  },
  "language_info": {
   "codemirror_mode": {
    "name": "ipython",
    "version": 3
   },
   "file_extension": ".py",
   "mimetype": "text/x-python",
   "name": "python",
   "nbconvert_exporter": "python",
   "pygments_lexer": "ipython3",
   "version": "3.9.7"
  }
 },
 "nbformat": 4,
 "nbformat_minor": 5
}
